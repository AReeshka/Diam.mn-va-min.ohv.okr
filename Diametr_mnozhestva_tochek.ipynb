{
 "cells": [
  {
   "cell_type": "code",
   "execution_count": 14,
   "metadata": {
    "collapsed": false
   },
   "outputs": [],
   "source": [
    "from Diam_mn import *\n",
    "from testing import *\n",
    "import numpy as np\n",
    "from scipy.spatial import ConvexHull\n",
    "%matplotlib inline\n",
    "import matplotlib.pyplot as plt\n",
    "from Inter import *\n",
    "from IPython.html.widgets import interactive\n",
    "from IPython.display import display"
   ]
  },
  {
   "cell_type": "markdown",
   "metadata": {},
   "source": [
    "# Диаметр множества точек (вращающиеся калиперы)"
   ]
  },
  {
   "cell_type": "markdown",
   "metadata": {},
   "source": [
    "В этом билете мы рассмотрим задачу о нахождении из множества точек $P$ двух самых удаленных друг от друга. "
   ]
  },
  {
   "cell_type": "markdown",
   "metadata": {
    "collapsed": true
   },
   "source": [
    "**Определение 1. Вращающиеся калиперы** – это несложный паттерн \n",
    "проектирования различных алгоритмов, требующих последовательного обхождения выпуклых многоугольников в $\\mathbb{R}^2$. Рассмотрим применение метода на нашей задаче."
   ]
  },
  {
   "cell_type": "markdown",
   "metadata": {
    "collapsed": true
   },
   "source": [
    "**Лемма 1.** *Диаметр множества лежит на выпуклой оболочке этого множества*"
   ]
  },
  {
   "cell_type": "markdown",
   "metadata": {
    "collapsed": true
   },
   "source": [
    "$\\triangleright$\n",
    "<div style=\"padding-left:40px\">   \n",
    "Докажем от противного.  \n",
    "Пусть мы нашли диаметр множства $d(P)=dist(A,B)$, причем, не теряя общности, $B\\not\\in CH(P)$. Тогда утверждается, что можно пустить луч $AB$ и посмотреть, в какой точке он пересечет выпуклую оболочку. Легко показать, что как минимум одна точка, формирующая ребро выпуклой оболочки, пересеченное лучем, имеет дистанцию до $A$ больше $d(P)$. \n",
    "</div>\n",
    "\n",
    "$\\triangleleft$"
   ]
  },
  {
   "cell_type": "markdown",
   "metadata": {},
   "source": [
    "<img src=\"Desktop/h.png\" style=\"display: inline\"/>"
   ]
  },
  {
   "cell_type": "markdown",
   "metadata": {
    "collapsed": true
   },
   "source": [
    "Исходя из Леммы 1, диаметр можно искать только на выпуклой оболочке."
   ]
  },
  {
   "cell_type": "markdown",
   "metadata": {},
   "source": [
    "Давайте построим выпуклую оболочку для 30 точек в двумерном пространстве."
   ]
  },
  {
   "cell_type": "code",
   "execution_count": 3,
   "metadata": {
    "collapsed": false
   },
   "outputs": [
    {
     "data": {
      "image/png": "[encoded data removed]",
      "text/plain": [
       "<matplotlib.figure.Figure at 0x10f6d39e8>"
      ]
     },
     "metadata": {},
     "output_type": "display_data"
    }
   ],
   "source": [
    "points = np.random.rand(30, 2)\n",
    "hull = ConvexHull(points)\n",
    "plt.plot(points[:,0], points[:,1], 'o')\n",
    "for simplex in hull.simplices:\n",
    "    plt.plot(points[simplex,0], points[simplex,1], 'k-')\n",
    "plt.show()"
   ]
  },
  {
   "cell_type": "markdown",
   "metadata": {},
   "source": [
    "Заметим, что после построения оболочки у нас могут оказаться больше двух точек на одном ребре. "
   ]
  },
  {
   "cell_type": "markdown",
   "metadata": {},
   "source": [
    "**Утверждение 1.** Точки на грани не повлияют на результат задачи."
   ]
  },
  {
   "cell_type": "markdown",
   "metadata": {},
   "source": [
    "<img src=\"Desktop/n.png\" style=\"display: inline\"/>"
   ]
  },
  {
   "cell_type": "markdown",
   "metadata": {},
   "source": [
    "$\\triangleright$\n",
    "<div style=\"padding-left:40px\">  \n",
    "Пусть после построения выпуклой оболочки у нас осталась точка на ребре. Рассмотрим треугольник $ABC$. Заметим, что $CD$ будет меньше хотя бы одной из сторон $AC$ или $CB$. А значит, расстояние $CD$ не может быть лучшим. Значит, рассмотрение точки $D$ никак не повлияет на ответ.  \n",
    "</div>\n",
    "\n",
    "$\\triangleleft$"
   ]
  },
  {
   "cell_type": "markdown",
   "metadata": {
    "collapsed": true
   },
   "source": [
    "**Переформулировка задачи.** Пусть $P = (p_1, p_2, ... ,p_n)$ — выпуклый многоугольник, в котором порядок обхода вершин направлен против часовой стрелки. Найти пару чисел $\\langle i$, $j \\rangle$, такие, что $d(p_i, p_j)$ максимально."
   ]
  },
  {
   "cell_type": "markdown",
   "metadata": {},
   "source": [
    "** Определение 2.** Прямая $L$ называется **опорной прямой** *(англ. line of support)* для многоугольника $P$, если его внутренность лежит по одну сторону от $L$, при этом $L$ проходит хотя бы через одну из вершин $P$."
   ]
  },
  {
   "cell_type": "markdown",
   "metadata": {},
   "source": [
    "<img src=\"Desktop/o.png\" style=\"display: inline\"/>"
   ]
  },
  {
   "cell_type": "markdown",
   "metadata": {},
   "source": [
    "**Теорема 1.** Пусть $L_1$ и $L_2$ — две параллельные опорные прямые фигуры $P$, расстояние между которыми имеет максимальное значение. $A$ и $B$ — граничные точки фигуры $P$, принадлежащие соответственно прямым $L_1$ и $L_2$. Тогда отрезок $AB$ перпендикулярен обеим прямым $L_1$ и $L_2$."
   ]
  },
  {
   "cell_type": "markdown",
   "metadata": {},
   "source": [
    "<img src=\"Desktop/y.png\" style=\"display: inline\"/>"
   ]
  },
  {
   "cell_type": "markdown",
   "metadata": {},
   "source": [
    "$\\triangleright$\n",
    "<div style=\"padding-left:40px\">  \n",
    "Докажем от противного.  \n",
    "Пусть $AB$ не перпендикулярен обеим прямым $L_1$ и $L_2$. Тогда расстояние между прямыми $L_1$ и $L_2$ было бы меньше, чем отрезок $AB$, и тем более меньше, чем расстояние между двумя опорными прямыми $L'_1$ и $L'_2$ фигуры $P$, перпендикулярными к отрезку $AB$, что противоречит условию.  \n",
    "</div>\n",
    "\n",
    "$\\triangleleft$"
   ]
  },
  {
   "cell_type": "markdown",
   "metadata": {},
   "source": [
    "**Следствие 1.** Каждая из $L_1$ и $L_2$, расстояние между которыми имеет максимальное значение, содержит единственную граничную точку фигуры $P$."
   ]
  },
  {
   "cell_type": "markdown",
   "metadata": {},
   "source": [
    "$\\triangleright$\n",
    "<div style=\"padding-left:40px\">  \n",
    "Так как $A$ и $B$ — какие угодно граничные точки фигуры $P$, принадлежащие соответственно прямым $L_1$ и $L_2$, то из перпендикулярности отрезка $AB$ к прямым $L_1$ и $L_2$ следует, что ни одна из прямых $L_1$, $L_2$ не может иметь с фигурой $P$ целый общий отрезок.  \n",
    "</div>\n",
    "\n",
    "$\\triangleleft$"
   ]
  },
  {
   "cell_type": "markdown",
   "metadata": {},
   "source": [
    "**Теорема 2.** Диаметр выпуклого многоугольника равен максимальному расстоянию между параллельными опорными прямыми."
   ]
  },
  {
   "cell_type": "markdown",
   "metadata": {},
   "source": [
    "<img src=\"Desktop/p.png\" style=\"display: inline\"/>"
   ]
  },
  {
   "cell_type": "markdown",
   "metadata": {},
   "source": [
    "$\\triangleright$\n",
    "<div style=\"padding-left:40px\">  \n",
    "Пусть $P$ — выпуклая фигура, $L_1$ и $L_2$ — параллельные опорные прямые, расстояние между которыми имеет наибольшее возможное значение $d$, $A$ и $B$ — общие точки фигуры $P$ и прямых $L_1$ и $L_2$ соответственно. По предыдущей теореме $AB$ перпендикулярен к прямым $L_1$, $L_2$, следовательно, его длина равна $d$. Докажем, что расстояние между любыми двумя точками фигуры $P$ не превосходит $d$. Действительно, если $C$ и $D$ — какие-либо две точки фигуры $P$, а $L_3$ и $L_4$ — опорные прямые, перпендикулярные к отрезку $CD$, то отрезок $CD$ равен расстоянию между прямыми $L_3$ и $L_4$, которое в свою очередь не превосходит $d$. Следовательно, длина $CD$ не может быть больше $d$.  \n",
    "</div>\n",
    "\n",
    "$\\triangleleft$"
   ]
  },
  {
   "cell_type": "markdown",
   "metadata": {},
   "source": [
    "** Определение 3.** Точки, через которые можно провести параллельные опорные прямые, будем называть **противолежащими** *(англ. antipodal)*."
   ]
  },
  {
   "cell_type": "markdown",
   "metadata": {},
   "source": [
    "Заметим, что параллельные опорные прямые можно провести не через любую пару точек. "
   ]
  },
  {
   "cell_type": "markdown",
   "metadata": {},
   "source": [
    "### Алгоритм"
   ]
  },
  {
   "cell_type": "markdown",
   "metadata": {},
   "source": [
    "Для начала найдем минимальную и максимальную точку среди точек выпуклой оболочки (лексикографически) $A$ и $B$. $A$ и $B$ - противолежащие. Создадим две вертикальные параллельные прямые, проходящих через соответствующие точки – $l_1$, $l_2$. Нарисуем их красными прямыми, точку $A$ - зеленым цветом, точку $B$ - красным."
   ]
  },
  {
   "cell_type": "code",
   "execution_count": 6,
   "metadata": {
    "collapsed": false
   },
   "outputs": [
    {
     "data": {
      "image/png": "[encoded data removed]",
      "text/plain": [
       "<matplotlib.figure.Figure at 0x111eb0978>"
      ]
     },
     "metadata": {},
     "output_type": "display_data"
    }
   ],
   "source": [
    "hpoints = points[hull.vertices] #массив точек выпуклой оболочки\n",
    "n = len(hpoints) #количество точек в выпуклой оболочке\n",
    "A = 0 #А - самая минимальная точка по координате Х\n",
    "B = 0 #В - самая максимальная точка по координате Х\n",
    "for i in range(1, n): #поиск минимальной и максимальной точки по координате Х\n",
    "    if (hpoints[i][0] < hpoints[A][0]):\n",
    "        A = i\n",
    "    if (hpoints[i][0] > hpoints[B][0]):\n",
    "        B = i\n",
    "dir = [0, 1] #вектор направления прямых l_1 и l_2\n",
    "\n",
    "best = [A, B] #диаметр множества(на данный момент это лучший из проверенных)\n",
    "\n",
    "def dist(a, b): #квадрат расстояния между точками выпуклой оболочки\n",
    "    return (hpoints[a][0] - hpoints[b][0])**2 + (hpoints[a][1] - hpoints[b][1])**2;\n",
    "\n",
    "draw(A, B, dir, best, hpoints, hull, dist, points)\n"
   ]
  },
  {
   "cell_type": "markdown",
   "metadata": {},
   "source": [
    "Будем заворачивать калиперы против часовой стрелки, поэтому условимся, что $l_1$ смотрит вниз, а $l_2$ вверх. Добавим текущие точки, на которых стоят параллельные прямые, в ответ ($⟨A,B⟩$). Нарисуем желтый отрезок $AB$."
   ]
  },
  {
   "cell_type": "markdown",
   "metadata": {},
   "source": [
    "<img src=\"Desktop/e.png\" style=\"display: inline\"/>"
   ]
  },
  {
   "cell_type": "markdown",
   "metadata": {},
   "source": [
    "$nextA$ и $nextB$ - следующие против часовой стрелки вершины многоугольника. Сравним угол между $l_1$ и $AnextA$ с углом между $l_2$ и $BnextB$. Для этого нужно выбрать меньший и перейти к следующей точке относительно выбранной, повернув при этом соответствующую прямую на величину меньшего угла, так, чтобы прямая теперь совпадала с ребром."
   ]
  },
  {
   "cell_type": "markdown",
   "metadata": {},
   "source": [
    "**Упражнение.** Реализуйте метод choose_next_my(A, nextA, B, nextB, dir_l), где $А$ - массив вида $[x,y]$, где $x,y$ координаты точки $А$; $nextA, B, nextB$ - координаты точек в таком же формате; dir_l - направляющий вектор прямых $l_1$ и $l_2$. Он должен находить следующую точку, к которой перейдет одна из прямых. Если это $nextA$ нужно вернуть 0, если $nextB$ вернуть 1.  "
   ]
  },
  {
   "cell_type": "code",
   "execution_count": 10,
   "metadata": {
    "collapsed": false
   },
   "outputs": [
    {
     "name": "stdout",
     "output_type": "stream",
     "text": [
      "Running tests\n"
     ]
    },
    {
     "data": {
      "image/png": "[encoded data removed]",
      "text/plain": [
       "<matplotlib.figure.Figure at 0x111ed4550>"
      ]
     },
     "metadata": {},
     "output_type": "display_data"
    },
    {
     "name": "stdout",
     "output_type": "stream",
     "text": [
      "Error on test  0\n",
      "Testing complete\n"
     ]
    }
   ],
   "source": [
    "def choose_next_my(A, nextA, B, nextB, dir_l):\n",
    "    #здесь должно быть ваше решение\n",
    "    return -1\n",
    "\n",
    "testing(choose_next_my, choose_next)\n",
    "#запустите код и посмотрите все ли тесты проходит ваше решение"
   ]
  },
  {
   "cell_type": "markdown",
   "metadata": {},
   "source": [
    "Заметим, что $l_1$ параллельна $l_2$, значит мы можем перенести вектор $BnextB$ в точку $A$, получив вектор $AnextB$, и сравнивать относительно $l_1$. Но $AnextA$ и $AnextB$ будут по разную сторону относителльно $l_1$. Поэтому если взять вектор $-AnextB$, то можно с помощью предиката поворота сравнить углы относительно $l_1$."
   ]
  },
  {
   "cell_type": "markdown",
   "metadata": {},
   "source": [
    "<img src=\"Desktop/t.png\" style=\"display: inline\"/>"
   ]
  },
  {
   "cell_type": "markdown",
   "metadata": {},
   "source": [
    "Будем всегда поддерживать параллельность прямых, поэтому вторую прямую тоже мысленно повернем. Получим две новые параллельные прямые $l_3$, $l_4$. "
   ]
  },
  {
   "cell_type": "markdown",
   "metadata": {},
   "source": [
    "<img src=\"Desktop/f.png\" style=\"display: inline\"/>"
   ]
  },
  {
   "cell_type": "markdown",
   "metadata": {},
   "source": [
    "Перейдем в начало процесса. Пусть угол с $BnextB$ оказался больше, тогда сравним dist(A,nextB) с сохранненьным ранее dist(A,B). Запомним лучший. Когда алгоритм придет в начальное положение, на выходе получим искомое расстояние."
   ]
  },
  {
   "cell_type": "code",
   "execution_count": 16,
   "metadata": {
    "collapsed": false,
    "scrolled": false
   },
   "outputs": [
    {
     "data": {
      "image/png": "[encoded data removed]",
      "text/plain": [
       "<matplotlib.figure.Figure at 0x1127eae48>"
      ]
     },
     "metadata": {},
     "output_type": "display_data"
    }
   ],
   "source": [
    "inf = list()\n",
    "    \n",
    "for i in range(0, n):\n",
    "    nextA = (A + 1) % n;#следующая вершина после А против часов стрелки\n",
    "    nextB = (B + 1) % n;#следующая вершина после В против часов стрелки\n",
    "    while (choose_next_my(hpoints[A], hpoints[nextA], hpoints[B], hpoints[nextB], dir) == 1):#если отрицательный, то переходим к nextB\n",
    "        dir = [hpoints[nextB][0] - hpoints[B][0], hpoints[nextB][1] - hpoints[B][1]]\n",
    "        B = nextB\n",
    "        if (dist(A, B) > dist(best[0], best[1])):#изменение уже найденного диаметра\n",
    "            best = [A, B]\n",
    "        inf.append([A, B, dir, best, hpoints, hull, dist, points])#сохраняем состояние наших позиций\n",
    "        nextB = (B + 1) % n;\n",
    "    #иначе переходим к nextA\n",
    "    dir = [hpoints[nextA][0] - hpoints[A][0], hpoints[nextA][1] - hpoints[A][1]]\n",
    "    A = nextA\n",
    "    if (dist(A, B) > dist(best[0], best[1])):#изменение уже найденного диаметра\n",
    "        best = [A, B]\n",
    "    inf.append([A, B, dir, best, hpoints, hull, dist, points])#сохраняем состояние наших позиций\n",
    "inter(inf,draw)#рисуем все пройденные состояния\n",
    "#Запустив,нажмите на ползунок и двигайте стрелочками вправо-влево, чтобы менять состояния"
   ]
  },
  {
   "cell_type": "markdown",
   "metadata": {},
   "source": [
    "До этого момента мы хранили dist() - как квадрат расстояния. Давайте возьмем корень и получим искомый диаметр."
   ]
  },
  {
   "cell_type": "code",
   "execution_count": 9,
   "metadata": {
    "collapsed": false
   },
   "outputs": [
    {
     "name": "stdout",
     "output_type": "stream",
     "text": [
      "1.0751854304564044\n"
     ]
    }
   ],
   "source": [
    "import math\n",
    "print(math.sqrt(dist(best[0],best[1])))"
   ]
  },
  {
   "cell_type": "markdown",
   "metadata": {},
   "source": [
    "### Корректность алгоритма"
   ]
  },
  {
   "cell_type": "markdown",
   "metadata": {},
   "source": [
    "*Доказательство.* Докажем от противного.  \n",
    "Пусть среди всех пар точек, формирующих ребра, нет нужной. Отметим, что метод выдает все ребра, для которых верно, что сущетствует пара параллельных прямых, не пересекающих многоугольник, проходящих через эти точки. Очевидно, что если для двух точек такие прямые не построить, то и диаметр на них лежать не может – легко показать, что взяв соседнюю, мы увеличим расстояние между ними (следует из непараллельности, нужно посмотреть углы).\n",
    "Отсюда диаметр лежит в классе пар точек, на которых прямые строятся. Поскольку алгоритм просматривает все такие (несложно показать), то диаметр будет лежать среди ребер ответа. Ч.т.д."
   ]
  },
  {
   "cell_type": "markdown",
   "metadata": {},
   "source": [
    "### Асимптотика"
   ]
  },
  {
   "cell_type": "markdown",
   "metadata": {},
   "source": [
    "Представленный выше алгоритм генерирует все пары противолежащих точек в многоугольнике P, состоящем из N вершин, за время O(N)."
   ]
  },
  {
   "cell_type": "markdown",
   "metadata": {},
   "source": [
    "$\\triangleright$\n",
    "<div style=\"padding-left:40px\">  \n",
    "Мы хранили указатели на противолежащие вершины, и на каждой итерации алгоритма увеличивали либо один из данных указателей, либо сразу оба (когда обе прямые проходяли через сторону многоугольника), и заканчивали работу, когда опорные прямые сделали полный круг. Таким образом, каждая из вершин была посещена каждой из прямых не более двух раз.  \n",
    "</div>\n",
    "\n",
    "$\\triangleleft$"
   ]
  },
  {
   "cell_type": "markdown",
   "metadata": {},
   "source": [
    "### В каких задачах можно ещё использовать метод вращающихся калиперов для решения?"
   ]
  },
  {
   "cell_type": "markdown",
   "metadata": {},
   "source": [
    "1. Поиск расстояния между двумя многоугольниками. Абсолютно аналогично проводим алгоритм для поиска диаметра (в инициализации у более левого/нижнего берем минимальную точку, а у другого максимальную), но добавляем в список ответа пару ⟨доминирующее ребро, вершина⟩.  \n",
    "2. Поиск двух общих касательных у выпуклых многоугольников. В инициализации у обоих полигонов берем минимальные точки, калиперы сонаправлены. В момент, когда калиперы меняются местами (один становится выше другого), мы проходим точку касания.\n",
    "3. Поиск суммы Минковского двух объектов."
   ]
  }
 ],
 "metadata": {
  "kernelspec": {
   "display_name": "Python 3",
   "language": "python",
   "name": "python3"
  },
  "language_info": {
   "codemirror_mode": {
    "name": "ipython",
    "version": 3
   },
   "file_extension": ".py",
   "mimetype": "text/x-python",
   "name": "python",
   "nbconvert_exporter": "python",
   "pygments_lexer": "ipython3",
   "version": "3.5.1"
  },
  "widgets": {
   "state": {
    "969cc8d2fe35469ebdedfd773e58672d": {
     "views": [
      {
       "cell_index": 41
      }
     ]
    }
   },
   "version": "1.2.0"
  }
 },
 "nbformat": 4,
 "nbformat_minor": 0
}
